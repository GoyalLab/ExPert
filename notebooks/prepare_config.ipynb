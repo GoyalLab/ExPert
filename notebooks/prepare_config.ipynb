{
 "cells": [
  {
   "cell_type": "code",
   "execution_count": 1,
   "id": "1d088405",
   "metadata": {},
   "outputs": [],
   "source": [
    "# import\n",
    "import pandas as pd\n",
    "import os\n",
    "import numpy as np\n",
    "os.chdir('../')\n",
    "from src import utils\n",
    "\n",
    "\n",
    "# read available datasets\n",
    "filtered_ds = pd.read_csv('resources/datasets/meta/filtered_datasets.csv')\n",
    "# add dataset index\n",
    "index = filtered_ds['publication index'].str.cat(filtered_ds['dataset index'], sep='_', na_rep='').str.rstrip(\"_\")\n",
    "filtered_ds['index'] = index\n",
    "# remove white spaces from links\n",
    "filtered_ds['download link'] = filtered_ds['download link'].str.replace(' ', '')\n",
    "# sort by dataset size\n",
    "filtered_ds = filtered_ds.sort_values('bytes')"
   ]
  },
  {
   "cell_type": "markdown",
   "id": "23059508",
   "metadata": {},
   "source": [
    "Create config file for options and datasets"
   ]
  },
  {
   "cell_type": "code",
   "execution_count": 5,
   "id": "fe7845f9",
   "metadata": {},
   "outputs": [],
   "source": [
    "ds_copy = filtered_ds.copy()\n",
    "config_path = 'config/config.yaml'\n",
    "correction_method = 'skip'\n",
    "# define base parameters\n",
    "base = {\n",
    "    'cores': ds_copy.shape[0],\n",
    "    'norm': 'false', 'log_norm': 'false', 'scale': 'false',\n",
    "    'n_hvg': 2000, 'subset_hvg': 'false',\n",
    "    'zero_padding': 'true',\n",
    "    'correction_method': f\"'{correction_method}'\",\n",
    "    'cache': 'true',\n",
    "    'plot': 'true',\n",
    "    'do_umap': 'true',\n",
    "    'log': \"'logs'\",\n",
    "    'output_dir': \"'results'\"\n",
    "}\n",
    "# create config file based on parameters and datasets\n",
    "utils.create_config_file(base, ds_copy, config_path=config_path)"
   ]
  },
  {
   "cell_type": "markdown",
   "id": "694e6ced",
   "metadata": {},
   "source": [
    "Create slurm batch script"
   ]
  },
  {
   "cell_type": "code",
   "execution_count": 6,
   "id": "0a5b7518",
   "metadata": {},
   "outputs": [],
   "source": [
    "# create sbatch script for given options\n",
    "utils.create_sbatch_script(base, ds_copy, config_path=config_path)"
   ]
  },
  {
   "cell_type": "markdown",
   "id": "c320509f",
   "metadata": {},
   "source": [
    "use 'sbatch main_quest.sh' to start execution"
   ]
  },
  {
   "cell_type": "code",
   "execution_count": null,
   "id": "374f869f",
   "metadata": {},
   "outputs": [],
   "source": []
  }
 ],
 "metadata": {
  "kernelspec": {
   "display_name": "harmonize",
   "language": "python",
   "name": "harmonize"
  },
  "language_info": {
   "codemirror_mode": {
    "name": "ipython",
    "version": 3
   },
   "file_extension": ".py",
   "mimetype": "text/x-python",
   "name": "python",
   "nbconvert_exporter": "python",
   "pygments_lexer": "ipython3",
   "version": "3.10.12"
  }
 },
 "nbformat": 4,
 "nbformat_minor": 5
}

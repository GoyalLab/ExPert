{
 "cells": [
  {
   "metadata": {},
   "cell_type": "markdown",
   "source": [
    "Load extracted table of datasets from http://projects.sanderlab.org/scperturb/datavzrd/scPerturb_vzrd_v1/dataset_info/index_1.html#\n",
    "\n",
    "(And add imports)"
   ],
   "id": "c57c65c9b997f6ea"
  },
  {
   "metadata": {
    "ExecuteTime": {
     "end_time": "2024-09-19T15:24:00.702329Z",
     "start_time": "2024-09-19T15:23:46.219041Z"
    }
   },
   "cell_type": "code",
   "source": [
    "import pandas as pd\n",
    "from src import utils\n",
    "import os\n",
    "import numpy as np\n",
    "os.chdir('../')\n",
    "datasets = pd.read_csv('resources/config_prep/datasets.csv')"
   ],
   "id": "d4daf0bf22473132",
   "outputs": [],
   "execution_count": 1
  },
  {
   "metadata": {},
   "cell_type": "markdown",
   "source": "Check file sizes of each dataset",
   "id": "b6559a2c581835cb"
  },
  {
   "metadata": {
    "ExecuteTime": {
     "end_time": "2024-09-19T15:26:56.583242Z",
     "start_time": "2024-09-19T15:26:28.047391Z"
    }
   },
   "cell_type": "code",
   "source": [
    "urls = datasets['Download Link'].tolist()\n",
    "# calculate file size and add human-readable size\n",
    "datasets['bytes'] = [utils.get_file_size(url, verbose=True) for url in urls]\n",
    "datasets['size'] = datasets['bytes'].apply(utils.convert_size)"
   ],
   "id": "ac6aab39fea0234",
   "outputs": [
    {
     "name": "stdout",
     "output_type": "stream",
     "text": [
      "Checking file size of https://zenodo.org/record/7041849/files/AdamsonWeissman2016_GSM2406675_10X001.h5ad: 34557246\n",
      "Checking file size of https://zenodo.org/record/7041849/files/AdamsonWeissman2016_GSM2406677_10X005.h5ad: 139059637\n",
      "Checking file size of https://zenodo.org/record/7041849/files/AdamsonWeissman2016_ GSM2406681_10X010.h5ad: None\n",
      "Checking file size of https://zenodo.org/record/7041849/files/AissaBenevolenskaya2021.h5ad: 45919115\n",
      "Checking file size of https://zenodo.org/record/7041849/files/ChangYe2021.h5ad: 501823050\n",
      "Checking file size of https://zenodo.org/record/7041849/files/DatlingerBock2017.h5ad: 39085166\n",
      "Checking file size of https://zenodo.org/record/7041849/files/DatlingerBock2021.h5ad: 33600780\n",
      "Checking file size of https://zenodo.org/record/7041849/files/DixitRegev2016.h5ad: 309282071\n",
      "Checking file size of https://zenodo.org/record/7041849/files/FrangiehIzar2021_RNA.h5ad: 1458928348\n",
      "Checking file size of https://zenodo.org/record/7041849/files/FrangiehIzar2021_protein.h5ad: 24714445\n",
      "Checking file size of https://zenodo.org/record/7041849/files/GasperiniShendure2019_atscale.h5ad: 1866293566\n",
      "Checking file size of https://zenodo.org/record/7041849/files/GasperiniShendure2019_highMOI.h5ad: 418337592\n",
      "Checking file size of https://zenodo.org/record/7041849/files/GasperiniShendure2019_lowMOI.h5ad: 322716827\n",
      "Checking file size of https://zenodo.org/record/7041849/files/GehringPachter2019.h5ad: 73272796\n",
      "Checking file size of https://zenodo.org/record/7058382/files/Liscovitch-BrauerSanjana2021_K562_1.zip: 202476643\n",
      "Checking file size of https://zenodo.org/record/7058382/files/Liscovitch-BrauerSanjana2021_K562_2.zip: 347307705\n",
      "Checking file size of https://zenodo.org/record/7041849/files/McFarlandTsherniak2020.h5ad: 1459410830\n",
      "Checking file size of https://zenodo.org/record/7058382/files/MimitouSmibert2021.zip: 834374137\n",
      "Checking file size of https://zenodo.org/record/7041849/files/NormanWeissman2019_filtered.h5ad: 698680199\n",
      "Checking file size of https://zenodo.org/record/7041849/files/PapalexiSatija2021_eccite_arrayed_protein.h5ad: 550922\n",
      "Checking file size of https://zenodo.org/record/7041849/files/PapalexiSatija2021_eccite_arrayed_RNA.h5ad: 52339395\n",
      "Checking file size of https://zenodo.org/record/7041849/files/PapalexiSatija2021_eccite_protein.h5ad: 1191551\n",
      "Checking file size of https://zenodo.org/record/7041849/files/PapalexiSatija2021_eccite_RNA.h5ad: 147215278\n",
      "Checking file size of https://zenodo.org/record/7058382/files/PierceGreenleaf2021_K562.zip: 2778105709\n",
      "Checking file size of https://zenodo.org/record/7058382/files/PierceGreenleaf2021_MCF7.zip: 1633612885\n",
      "Checking file size of https://zenodo.org/record/7058382/files/PierceGreenleaf2021_GM12878.zip: 1139538928\n",
      "Checking file size of https://zenodo.org/record/7041849/files/ReplogleWeissman2022_K562_essential.h5ad: 1546729675\n",
      "Checking file size of https://zenodo.org/record/7041849/files/ReplogleWeissman2022_K562_gwps.h5ad: 8805466154\n",
      "Checking file size of https://zenodo.org/record/7041849/files/ReplogleWeissman2022_rpe1.h5ad: 1236886900\n",
      "Checking file size of https://zenodo.org/record/7041849/files/SchiebingerLander2019_GSE106340.h5ad: 378858726\n",
      "Checking file size of https://zenodo.org/record/7041849/files/SchiebingerLander2019_GSE115943.h5ad: 1640956517\n",
      "Checking file size of https://zenodo.org/record/7041849/files/SchraivogelSteinmetz2020_TAP_SCREEN__chromosome_11_screen.h5ad: 21815981\n",
      "Checking file size of https://zenodo.org/record/7041849/files/SchraivogelSteinmetz2020_TAP_SCREEN__chromosome_8_screen.h5ad: 21015792\n",
      "Checking file size of https://zenodo.org/record/7041849/files/ShifrutMarson2018.h5ad: 253843410\n",
      "Checking file size of https://zenodo.org/record/7041849/files/SrivatsanTrapnell2020_sciplex2.h5ad: 145178504\n",
      "Checking file size of https://zenodo.org/record/7041849/files/SrivatsanTrapnell2020_sciplex3.h5ad: 2456030368\n",
      "Checking file size of https://zenodo.org/record/7041849/files/SrivatsanTrapnell2020_sciplex4.h5ad: 253335945\n",
      "Checking file size of https://zenodo.org/record/7041849/files/TianKampmann2019_day7neuron.h5ad: 268921535\n",
      "Checking file size of https://zenodo.org/record/7041849/files/TianKampmann2019_iPSC.h5ad: 350848489\n",
      "Checking file size of https://zenodo.org/record/7041849/files/TianKampmann2021_CRISPRa.h5ad: 154788473\n",
      "Checking file size of https://zenodo.org/record/7041849/files/TianKampmann2021_CRISPRi.h5ad: 289389479\n",
      "Checking file size of https://zenodo.org/record/7041849/files/WeinrebKlein2020.h5ad: 228524613\n",
      "Checking file size of https://zenodo.org/record/7041849/files/XieHon2017.h5ad: 117356359\n",
      "Checking file size of https://zenodo.org/record/7041849/files/ZhaoSims2021.h5ad: 586888140\n"
     ]
    }
   ],
   "execution_count": 2
  },
  {
   "metadata": {},
   "cell_type": "markdown",
   "source": "Save changes to dataset.csv",
   "id": "4a68e2061955e313"
  },
  {
   "metadata": {
    "ExecuteTime": {
     "end_time": "2024-09-19T15:26:56.596712Z",
     "start_time": "2024-09-19T15:26:56.586589Z"
    }
   },
   "cell_type": "code",
   "source": "datasets.to_csv('resources/config_prep/datasets.csv', index=False)",
   "id": "da66382c92cde416",
   "outputs": [],
   "execution_count": 3
  },
  {
   "metadata": {},
   "cell_type": "markdown",
   "source": "Add extra data from downloadable excel sheet (also from same page)",
   "id": "d29ec144f59fee7b"
  },
  {
   "metadata": {
    "ExecuteTime": {
     "end_time": "2024-09-19T15:26:57.100292Z",
     "start_time": "2024-09-19T15:26:56.598678Z"
    }
   },
   "cell_type": "code",
   "source": "e_data = pd.read_excel('resources/config_prep/data.xlsx', sheet_name='dataset_info')",
   "id": "985dc8ec5e73740e",
   "outputs": [],
   "execution_count": 4
  },
  {
   "metadata": {
    "ExecuteTime": {
     "end_time": "2024-09-19T15:26:57.108007Z",
     "start_time": "2024-09-19T15:26:57.104361Z"
    }
   },
   "cell_type": "code",
   "source": [
    "# unify columns\n",
    "datasets.columns = datasets.columns.str.lower()\n",
    "e_data.columns = e_data.columns.str.lower()"
   ],
   "id": "e35bee4589ed1bb",
   "outputs": [],
   "execution_count": 5
  },
  {
   "metadata": {
    "ExecuteTime": {
     "end_time": "2024-09-19T15:26:57.113756Z",
     "start_time": "2024-09-19T15:26:57.109936Z"
    }
   },
   "cell_type": "code",
   "source": [
    "# drop duplicated columns in e_data not needed for merge\n",
    "e_data.drop(columns=['download link', 'full index', 'title', 'doi_url', 'first author'], inplace=True)"
   ],
   "id": "f4d24ea5dc3581c2",
   "outputs": [],
   "execution_count": 6
  },
  {
   "metadata": {
    "ExecuteTime": {
     "end_time": "2024-09-19T15:26:57.121912Z",
     "start_time": "2024-09-19T15:26:57.115989Z"
    }
   },
   "cell_type": "code",
   "source": [
    "# merge data and save to dataset.csv\n",
    "merged = datasets.merge(e_data, on=['publication index', 'dataset index'], how='left')\n",
    "print(f\"{np.abs(merged.shape[0] - datasets.shape[0])} datasets lost on merge\")"
   ],
   "id": "f557351befa98972",
   "outputs": [
    {
     "name": "stdout",
     "output_type": "stream",
     "text": [
      "0 datasets lost on merge\n"
     ]
    }
   ],
   "execution_count": 7
  },
  {
   "metadata": {
    "ExecuteTime": {
     "end_time": "2024-09-19T15:29:58.637321Z",
     "start_time": "2024-09-19T15:29:58.632049Z"
    }
   },
   "cell_type": "code",
   "source": "merged.to_csv('resources/datasets/templates/datasets.csv', index=False)",
   "id": "b7e36964fb1fd0d9",
   "outputs": [],
   "execution_count": 9
  },
  {
   "metadata": {},
   "cell_type": "markdown",
   "source": "Filter datasets that we would like to include",
   "id": "8e77ac0718cb6a05"
  },
  {
   "metadata": {
    "ExecuteTime": {
     "end_time": "2024-09-19T16:23:14.510236Z",
     "start_time": "2024-09-19T16:23:14.500575Z"
    }
   },
   "cell_type": "code",
   "source": [
    "# focus on pure RNA datasets\n",
    "filtered_ds = merged[merged['modality'] == 'RNA']\n",
    "# only use CRISPR perturbations, exclude things like drugs or cytokines, etc.\n",
    "filtered_ds = filtered_ds[filtered_ds['perturbation'].str.startswith('CRISPR')]\n",
    "# exclude non-functional links (i.e., with -1 byte size)\n",
    "filtered_ds = filtered_ds[filtered_ds['bytes']!=-1]"
   ],
   "id": "9dde07a28cbcd5a8",
   "outputs": [],
   "execution_count": 80
  },
  {
   "metadata": {
    "ExecuteTime": {
     "end_time": "2024-09-19T16:23:15.226119Z",
     "start_time": "2024-09-19T16:23:15.215887Z"
    }
   },
   "cell_type": "code",
   "source": [
    "# some numbers of perturbations are given as combinations, so take the square rook to make them comparable\n",
    "comb_mask = filtered_ds['number of perturbations'].str.endswith('combinations)')\n",
    "filtered_ds.loc[comb_mask, 'number of perturbations'] = np.round(np.sqrt(filtered_ds[comb_mask]['number of perturbations'].str.split(\" \").map(lambda s: int(s[0])))).astype(int)\n",
    "filtered_ds['number of perturbations'] = filtered_ds['number of perturbations'].astype(int)"
   ],
   "id": "306698bb14bc41b4",
   "outputs": [],
   "execution_count": 81
  },
  {
   "metadata": {
    "ExecuteTime": {
     "end_time": "2024-09-19T16:23:16.472508Z",
     "start_time": "2024-09-19T16:23:16.466495Z"
    }
   },
   "cell_type": "code",
   "source": [
    "import seaborn as sns\n",
    "from matplotlib import pyplot as plt"
   ],
   "id": "4268f98a4d9aedcd",
   "outputs": [],
   "execution_count": 82
  },
  {
   "metadata": {
    "ExecuteTime": {
     "end_time": "2024-09-19T16:23:17.133114Z",
     "start_time": "2024-09-19T16:23:16.761532Z"
    }
   },
   "cell_type": "code",
   "source": [
    "print(f'Meta-set spans {filtered_ds.shape[0]} perturb-seq-like datasets')\n",
    "# unify perturbations column to integer\n",
    "num_pert = filtered_ds['number of perturbations'].sum()\n",
    "print(f'Number of total (non-unique) perturbations: {num_pert}')\n",
    "pert = filtered_ds['perturbation'].unique()\n",
    "print(f'Perturbation protocols: {pert}')\n",
    "seqs = filtered_ds['method'].unique()\n",
    "print(f'Sequence protocols: {seqs}')\n",
    "# count occurrence of perturbation types and sequencing methods\n",
    "method_counts = filtered_ds['method'].value_counts().reset_index()\n",
    "pert_counts = filtered_ds['perturbation'].value_counts().reset_index()\n",
    "# bar plots\n",
    "fig, axes = plt.subplots(1, 2, figsize=(16, 6))\n",
    "sns.barplot(x='method', y='count', data=method_counts, ax=axes[0])\n",
    "sns.barplot(x='perturbation', y='count', data=pert_counts, ax=axes[1])\n",
    "plt.show()"
   ],
   "id": "78e224036ac67579",
   "outputs": [
    {
     "name": "stdout",
     "output_type": "stream",
     "text": [
      "Meta-set spans 20 perturb-seq-like datasets\n",
      "Number of total (non-unique) perturbations: 23146\n",
      "Perturbation protocols: ['CRISPRi' 'CRISPR-cas9, TCR stim' 'CRISPR-cas9' 'CRISPRa']\n",
      "Sequence protocols: ['Perturb-seq' 'CROP-seq' 'scifi-RNA-seq (derived from CROP-seq)'\n",
      " 'TAP-seq' 'Mosaic-seq']\n"
     ]
    },
    {
     "data": {
      "text/plain": [
       "<Figure size 1600x600 with 2 Axes>"
      ],
      "image/png": "[encoded data removed]"
     },
     "metadata": {},
     "output_type": "display_data"
    }
   ],
   "execution_count": 83
  },
  {
   "metadata": {
    "ExecuteTime": {
     "end_time": "2024-09-19T16:23:26.423946Z",
     "start_time": "2024-09-19T16:23:26.415059Z"
    }
   },
   "cell_type": "code",
   "source": [
    "# save to templates\n",
    "filtered_ds.to_csv('resources/datasets/meta/filtered_datasets.csv', index=False)"
   ],
   "id": "b6bd231372be655",
   "outputs": [],
   "execution_count": 85
  },
  {
   "metadata": {},
   "cell_type": "markdown",
   "source": "Add datasets to config.yaml",
   "id": "b4a66d140374c40c"
  },
  {
   "metadata": {
    "ExecuteTime": {
     "end_time": "2024-09-19T16:49:15.475142Z",
     "start_time": "2024-09-19T16:49:15.468868Z"
    }
   },
   "cell_type": "code",
   "source": [
    "index = filtered_ds['publication index'].str.cat(filtered_ds['dataset index'], sep='_', na_rep='').str.rstrip(\"_\")\n",
    "filtered_ds['index'] = index"
   ],
   "id": "8b8b616b01d13111",
   "outputs": [],
   "execution_count": 94
  },
  {
   "metadata": {
    "ExecuteTime": {
     "end_time": "2024-09-19T16:49:16.552052Z",
     "start_time": "2024-09-19T16:49:16.541260Z"
    }
   },
   "cell_type": "code",
   "source": [
    "# remove any white spaces from links\n",
    "filtered_ds['download link'] = filtered_ds['download link'].str.replace(' ', '')\n",
    "with open('config/config.yaml', 'a') as f:\n",
    "    f.write('\\ndatasets:\\n')\n",
    "    for i, row in filtered_ds[['index', 'download link']].iterrows():\n",
    "        f.write(f\"- \\\"{row['index']}\\\": \\\"{row['download link']}\\\"\\n\")"
   ],
   "id": "5c56a7f931fd5782",
   "outputs": [],
   "execution_count": 95
  },
  {
   "metadata": {},
   "cell_type": "code",
   "outputs": [],
   "execution_count": null,
   "source": "",
   "id": "423deeaa921fade7"
  }
 ],
 "metadata": {
  "kernelspec": {
   "display_name": "Python 3",
   "language": "python",
   "name": "python3"
  },
  "language_info": {
   "codemirror_mode": {
    "name": "ipython",
    "version": 2
   },
   "file_extension": ".py",
   "mimetype": "text/x-python",
   "name": "python",
   "nbconvert_exporter": "python",
   "pygments_lexer": "ipython2",
   "version": "2.7.6"
  }
 },
 "nbformat": 4,
 "nbformat_minor": 5
}

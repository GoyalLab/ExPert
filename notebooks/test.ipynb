{
 "cells": [
  {
   "cell_type": "code",
   "id": "initial_id",
   "metadata": {
    "collapsed": true,
    "ExecuteTime": {
     "end_time": "2024-09-26T17:04:44.310064Z",
     "start_time": "2024-09-26T17:04:39.210487Z"
    }
   },
   "source": [
    "import pandas as pd\n",
    "import scanpy as sc\n",
    "import os\n",
    "import anndata as ad\n",
    "os.chdir('../')\n",
    "datasets = pd.read_csv('resources/datasets/meta/filtered_datasets.csv')"
   ],
   "outputs": [],
   "execution_count": 1
  },
  {
   "metadata": {
    "ExecuteTime": {
     "end_time": "2024-09-26T17:57:08.091194Z",
     "start_time": "2024-09-26T17:56:57.774051Z"
    }
   },
   "cell_type": "code",
   "source": "metaset = sc.read('results/perturb_metaset.h5ad')",
   "id": "65dc03884daa055c",
   "outputs": [],
   "execution_count": 2
  },
  {
   "metadata": {
    "ExecuteTime": {
     "end_time": "2024-09-26T17:57:23.116153Z",
     "start_time": "2024-09-26T17:57:23.080619Z"
    }
   },
   "cell_type": "code",
   "source": "metaset",
   "id": "ed6cd4314d999ef5",
   "outputs": [
    {
     "data": {
      "text/plain": [
       "AnnData object with n_obs × n_vars = 156989 × 8045\n",
       "    obs: 'guide_id', 'percent_mito', 'disease', 'cancer', 'perturbation', 'organism', 'perturbation_type', 'tissue_type', 'ncounts', 'ngenes', 'nperts', 'percent_ribo', 'n_genes_by_counts', 'log1p_n_genes_by_counts', 'total_counts', 'log1p_total_counts', 'pct_counts_in_top_20_genes', 'total_counts_mt', 'log1p_total_counts_mt', 'pct_counts_mt', 'total_counts_ribo', 'log1p_total_counts_ribo', 'pct_counts_ribo', 'total_counts_hb', 'log1p_total_counts_hb', 'pct_counts_hb', 'outlier', 'mt_outlier', 'dataset'"
      ]
     },
     "execution_count": 3,
     "metadata": {},
     "output_type": "execute_result"
    }
   ],
   "execution_count": 3
  },
  {
   "metadata": {
    "ExecuteTime": {
     "end_time": "2024-09-26T18:08:13.950028Z",
     "start_time": "2024-09-26T17:59:42.727509Z"
    }
   },
   "cell_type": "code",
   "source": [
    "# Perform PCA for visualization\n",
    "sc.pp.pca(metaset)\n",
    "# Visualize the batches in PCA space\n",
    "sc.pp.neighbors(metaset, use_rep='X_pca')\n",
    "sc.tl.umap(metaset)\n",
    "sc.pl.umap(metaset, color='dataset')"
   ],
   "id": "f2204e7c0496f4c5",
   "outputs": [
    {
     "ename": "KeyboardInterrupt",
     "evalue": "",
     "output_type": "error",
     "traceback": [
      "\u001B[0;31m---------------------------------------------------------------------------\u001B[0m",
      "\u001B[0;31mKeyboardInterrupt\u001B[0m                         Traceback (most recent call last)",
      "Cell \u001B[0;32mIn[4], line 2\u001B[0m\n\u001B[1;32m      1\u001B[0m \u001B[38;5;66;03m# Perform PCA for visualization\u001B[39;00m\n\u001B[0;32m----> 2\u001B[0m \u001B[43msc\u001B[49m\u001B[38;5;241;43m.\u001B[39;49m\u001B[43mpp\u001B[49m\u001B[38;5;241;43m.\u001B[39;49m\u001B[43mpca\u001B[49m\u001B[43m(\u001B[49m\u001B[43mmetaset\u001B[49m\u001B[43m)\u001B[49m\n\u001B[1;32m      3\u001B[0m \u001B[38;5;66;03m# Visualize the batches in PCA space\u001B[39;00m\n\u001B[1;32m      4\u001B[0m sc\u001B[38;5;241m.\u001B[39mpp\u001B[38;5;241m.\u001B[39mneighbors(metaset, use_rep\u001B[38;5;241m=\u001B[39m\u001B[38;5;124m'\u001B[39m\u001B[38;5;124mX_pca\u001B[39m\u001B[38;5;124m'\u001B[39m)\n",
      "File \u001B[0;32m~/miniforge3/envs/ExPert/lib/python3.8/site-packages/scanpy/preprocessing/_pca.py:200\u001B[0m, in \u001B[0;36mpca\u001B[0;34m(data, n_comps, zero_center, svd_solver, random_state, return_info, use_highly_variable, dtype, copy, chunked, chunk_size)\u001B[0m\n\u001B[1;32m    194\u001B[0m \u001B[38;5;28;01mif\u001B[39;00m svd_solver \u001B[38;5;129;01mnot\u001B[39;00m \u001B[38;5;129;01min\u001B[39;00m {\u001B[38;5;124m'\u001B[39m\u001B[38;5;124mlobpcg\u001B[39m\u001B[38;5;124m'\u001B[39m, \u001B[38;5;124m'\u001B[39m\u001B[38;5;124marpack\u001B[39m\u001B[38;5;124m'\u001B[39m}:\n\u001B[1;32m    195\u001B[0m     \u001B[38;5;28;01mraise\u001B[39;00m \u001B[38;5;167;01mValueError\u001B[39;00m(\n\u001B[1;32m    196\u001B[0m         \u001B[38;5;124m'\u001B[39m\u001B[38;5;124msvd_solver: \u001B[39m\u001B[38;5;132;01m{svd_solver}\u001B[39;00m\u001B[38;5;124m can not be used with sparse input.\u001B[39m\u001B[38;5;130;01m\\n\u001B[39;00m\u001B[38;5;124m'\u001B[39m\n\u001B[1;32m    197\u001B[0m         \u001B[38;5;124m'\u001B[39m\u001B[38;5;124mUse \u001B[39m\u001B[38;5;124m\"\u001B[39m\u001B[38;5;124marpack\u001B[39m\u001B[38;5;124m\"\u001B[39m\u001B[38;5;124m (the default) or \u001B[39m\u001B[38;5;124m\"\u001B[39m\u001B[38;5;124mlobpcg\u001B[39m\u001B[38;5;124m\"\u001B[39m\u001B[38;5;124m instead.\u001B[39m\u001B[38;5;124m'\u001B[39m\n\u001B[1;32m    198\u001B[0m     )\n\u001B[0;32m--> 200\u001B[0m output \u001B[38;5;241m=\u001B[39m \u001B[43m_pca_with_sparse\u001B[49m\u001B[43m(\u001B[49m\n\u001B[1;32m    201\u001B[0m \u001B[43m    \u001B[49m\u001B[43mX\u001B[49m\u001B[43m,\u001B[49m\u001B[43m \u001B[49m\u001B[43mn_comps\u001B[49m\u001B[43m,\u001B[49m\u001B[43m \u001B[49m\u001B[43msolver\u001B[49m\u001B[38;5;241;43m=\u001B[39;49m\u001B[43msvd_solver\u001B[49m\u001B[43m,\u001B[49m\u001B[43m \u001B[49m\u001B[43mrandom_state\u001B[49m\u001B[38;5;241;43m=\u001B[39;49m\u001B[43mrandom_state\u001B[49m\n\u001B[1;32m    202\u001B[0m \u001B[43m\u001B[49m\u001B[43m)\u001B[49m\n\u001B[1;32m    203\u001B[0m \u001B[38;5;66;03m# this is just a wrapper for the results\u001B[39;00m\n\u001B[1;32m    204\u001B[0m X_pca \u001B[38;5;241m=\u001B[39m output[\u001B[38;5;124m'\u001B[39m\u001B[38;5;124mX_pca\u001B[39m\u001B[38;5;124m'\u001B[39m]\n",
      "File \u001B[0;32m~/miniforge3/envs/ExPert/lib/python3.8/site-packages/scanpy/preprocessing/_pca.py:303\u001B[0m, in \u001B[0;36m_pca_with_sparse\u001B[0;34m(X, npcs, solver, mu, random_state)\u001B[0m\n\u001B[1;32m    292\u001B[0m     \u001B[38;5;28;01mreturn\u001B[39;00m XHmat(x) \u001B[38;5;241m-\u001B[39m mhmat(ones(x))\n\u001B[1;32m    294\u001B[0m XL \u001B[38;5;241m=\u001B[39m LinearOperator(\n\u001B[1;32m    295\u001B[0m     matvec\u001B[38;5;241m=\u001B[39mmatvec,\n\u001B[1;32m    296\u001B[0m     dtype\u001B[38;5;241m=\u001B[39mX\u001B[38;5;241m.\u001B[39mdtype,\n\u001B[0;32m   (...)\u001B[0m\n\u001B[1;32m    300\u001B[0m     rmatmat\u001B[38;5;241m=\u001B[39mrmatmat,\n\u001B[1;32m    301\u001B[0m )\n\u001B[0;32m--> 303\u001B[0m u, s, v \u001B[38;5;241m=\u001B[39m \u001B[43msvds\u001B[49m\u001B[43m(\u001B[49m\u001B[43mXL\u001B[49m\u001B[43m,\u001B[49m\u001B[43m \u001B[49m\u001B[43msolver\u001B[49m\u001B[38;5;241;43m=\u001B[39;49m\u001B[43msolver\u001B[49m\u001B[43m,\u001B[49m\u001B[43m \u001B[49m\u001B[43mk\u001B[49m\u001B[38;5;241;43m=\u001B[39;49m\u001B[43mnpcs\u001B[49m\u001B[43m,\u001B[49m\u001B[43m \u001B[49m\u001B[43mv0\u001B[49m\u001B[38;5;241;43m=\u001B[39;49m\u001B[43mrandom_init\u001B[49m\u001B[43m)\u001B[49m\n\u001B[1;32m    304\u001B[0m u, v \u001B[38;5;241m=\u001B[39m svd_flip(u, v)\n\u001B[1;32m    305\u001B[0m idx \u001B[38;5;241m=\u001B[39m np\u001B[38;5;241m.\u001B[39margsort(\u001B[38;5;241m-\u001B[39ms)\n",
      "File \u001B[0;32m~/miniforge3/envs/ExPert/lib/python3.8/site-packages/scipy/sparse/linalg/_eigen/_svds.py:350\u001B[0m, in \u001B[0;36msvds\u001B[0;34m(A, k, ncv, tol, which, v0, maxiter, return_singular_vectors, solver, random_state, options)\u001B[0m\n\u001B[1;32m    348\u001B[0m     \u001B[38;5;28;01mif\u001B[39;00m v0 \u001B[38;5;129;01mis\u001B[39;00m \u001B[38;5;28;01mNone\u001B[39;00m \u001B[38;5;129;01mand\u001B[39;00m \u001B[38;5;129;01mnot\u001B[39;00m rs_was_None:\n\u001B[1;32m    349\u001B[0m         v0 \u001B[38;5;241m=\u001B[39m random_state\u001B[38;5;241m.\u001B[39muniform(size\u001B[38;5;241m=\u001B[39m(\u001B[38;5;28mmin\u001B[39m(A\u001B[38;5;241m.\u001B[39mshape),))\n\u001B[0;32m--> 350\u001B[0m     eigvals, eigvec \u001B[38;5;241m=\u001B[39m \u001B[43meigsh\u001B[49m\u001B[43m(\u001B[49m\u001B[43mXH_X\u001B[49m\u001B[43m,\u001B[49m\u001B[43m \u001B[49m\u001B[43mk\u001B[49m\u001B[38;5;241;43m=\u001B[39;49m\u001B[43mk\u001B[49m\u001B[43m,\u001B[49m\u001B[43m \u001B[49m\u001B[43mtol\u001B[49m\u001B[38;5;241;43m=\u001B[39;49m\u001B[43mtol\u001B[49m\u001B[43m \u001B[49m\u001B[38;5;241;43m*\u001B[39;49m\u001B[38;5;241;43m*\u001B[39;49m\u001B[43m \u001B[49m\u001B[38;5;241;43m2\u001B[39;49m\u001B[43m,\u001B[49m\u001B[43m \u001B[49m\u001B[43mmaxiter\u001B[49m\u001B[38;5;241;43m=\u001B[39;49m\u001B[43mmaxiter\u001B[49m\u001B[43m,\u001B[49m\n\u001B[1;32m    351\u001B[0m \u001B[43m                            \u001B[49m\u001B[43mncv\u001B[49m\u001B[38;5;241;43m=\u001B[39;49m\u001B[43mncv\u001B[49m\u001B[43m,\u001B[49m\u001B[43m \u001B[49m\u001B[43mwhich\u001B[49m\u001B[38;5;241;43m=\u001B[39;49m\u001B[43mwhich\u001B[49m\u001B[43m,\u001B[49m\u001B[43m \u001B[49m\u001B[43mv0\u001B[49m\u001B[38;5;241;43m=\u001B[39;49m\u001B[43mv0\u001B[49m\u001B[43m)\u001B[49m\n\u001B[1;32m    353\u001B[0m \u001B[38;5;66;03m# Gramian matrices have real non-negative eigenvalues.\u001B[39;00m\n\u001B[1;32m    354\u001B[0m eigvals \u001B[38;5;241m=\u001B[39m np\u001B[38;5;241m.\u001B[39mmaximum(eigvals\u001B[38;5;241m.\u001B[39mreal, \u001B[38;5;241m0\u001B[39m)\n",
      "File \u001B[0;32m~/miniforge3/envs/ExPert/lib/python3.8/site-packages/scipy/sparse/linalg/_eigen/arpack/arpack.py:1689\u001B[0m, in \u001B[0;36meigsh\u001B[0;34m(A, k, M, sigma, which, v0, ncv, maxiter, tol, return_eigenvectors, Minv, OPinv, mode)\u001B[0m\n\u001B[1;32m   1687\u001B[0m \u001B[38;5;28;01mwith\u001B[39;00m _ARPACK_LOCK:\n\u001B[1;32m   1688\u001B[0m     \u001B[38;5;28;01mwhile\u001B[39;00m \u001B[38;5;129;01mnot\u001B[39;00m params\u001B[38;5;241m.\u001B[39mconverged:\n\u001B[0;32m-> 1689\u001B[0m         \u001B[43mparams\u001B[49m\u001B[38;5;241;43m.\u001B[39;49m\u001B[43miterate\u001B[49m\u001B[43m(\u001B[49m\u001B[43m)\u001B[49m\n\u001B[1;32m   1691\u001B[0m     \u001B[38;5;28;01mreturn\u001B[39;00m params\u001B[38;5;241m.\u001B[39mextract(return_eigenvectors)\n",
      "File \u001B[0;32m~/miniforge3/envs/ExPert/lib/python3.8/site-packages/scipy/sparse/linalg/_eigen/arpack/arpack.py:547\u001B[0m, in \u001B[0;36m_SymmetricArpackParams.iterate\u001B[0;34m(self)\u001B[0m\n\u001B[1;32m    544\u001B[0m \u001B[38;5;28;01melif\u001B[39;00m \u001B[38;5;28mself\u001B[39m\u001B[38;5;241m.\u001B[39mido \u001B[38;5;241m==\u001B[39m \u001B[38;5;241m1\u001B[39m:\n\u001B[1;32m    545\u001B[0m     \u001B[38;5;66;03m# compute y = Op*x\u001B[39;00m\n\u001B[1;32m    546\u001B[0m     \u001B[38;5;28;01mif\u001B[39;00m \u001B[38;5;28mself\u001B[39m\u001B[38;5;241m.\u001B[39mmode \u001B[38;5;241m==\u001B[39m \u001B[38;5;241m1\u001B[39m:\n\u001B[0;32m--> 547\u001B[0m         \u001B[38;5;28mself\u001B[39m\u001B[38;5;241m.\u001B[39mworkd[yslice] \u001B[38;5;241m=\u001B[39m \u001B[38;5;28;43mself\u001B[39;49m\u001B[38;5;241;43m.\u001B[39;49m\u001B[43mOP\u001B[49m\u001B[43m(\u001B[49m\u001B[38;5;28;43mself\u001B[39;49m\u001B[38;5;241;43m.\u001B[39;49m\u001B[43mworkd\u001B[49m\u001B[43m[\u001B[49m\u001B[43mxslice\u001B[49m\u001B[43m]\u001B[49m\u001B[43m)\u001B[49m\n\u001B[1;32m    548\u001B[0m     \u001B[38;5;28;01melif\u001B[39;00m \u001B[38;5;28mself\u001B[39m\u001B[38;5;241m.\u001B[39mmode \u001B[38;5;241m==\u001B[39m \u001B[38;5;241m2\u001B[39m:\n\u001B[1;32m    549\u001B[0m         \u001B[38;5;28mself\u001B[39m\u001B[38;5;241m.\u001B[39mworkd[xslice] \u001B[38;5;241m=\u001B[39m \u001B[38;5;28mself\u001B[39m\u001B[38;5;241m.\u001B[39mOPb(\u001B[38;5;28mself\u001B[39m\u001B[38;5;241m.\u001B[39mworkd[xslice])\n",
      "File \u001B[0;32m~/miniforge3/envs/ExPert/lib/python3.8/site-packages/scipy/sparse/linalg/_interface.py:232\u001B[0m, in \u001B[0;36mLinearOperator.matvec\u001B[0;34m(self, x)\u001B[0m\n\u001B[1;32m    229\u001B[0m \u001B[38;5;28;01mif\u001B[39;00m x\u001B[38;5;241m.\u001B[39mshape \u001B[38;5;241m!=\u001B[39m (N,) \u001B[38;5;129;01mand\u001B[39;00m x\u001B[38;5;241m.\u001B[39mshape \u001B[38;5;241m!=\u001B[39m (N,\u001B[38;5;241m1\u001B[39m):\n\u001B[1;32m    230\u001B[0m     \u001B[38;5;28;01mraise\u001B[39;00m \u001B[38;5;167;01mValueError\u001B[39;00m(\u001B[38;5;124m'\u001B[39m\u001B[38;5;124mdimension mismatch\u001B[39m\u001B[38;5;124m'\u001B[39m)\n\u001B[0;32m--> 232\u001B[0m y \u001B[38;5;241m=\u001B[39m \u001B[38;5;28;43mself\u001B[39;49m\u001B[38;5;241;43m.\u001B[39;49m\u001B[43m_matvec\u001B[49m\u001B[43m(\u001B[49m\u001B[43mx\u001B[49m\u001B[43m)\u001B[49m\n\u001B[1;32m    234\u001B[0m \u001B[38;5;28;01mif\u001B[39;00m \u001B[38;5;28misinstance\u001B[39m(x, np\u001B[38;5;241m.\u001B[39mmatrix):\n\u001B[1;32m    235\u001B[0m     y \u001B[38;5;241m=\u001B[39m asmatrix(y)\n",
      "File \u001B[0;32m~/miniforge3/envs/ExPert/lib/python3.8/site-packages/scipy/sparse/linalg/_interface.py:530\u001B[0m, in \u001B[0;36m_CustomLinearOperator._matvec\u001B[0;34m(self, x)\u001B[0m\n\u001B[1;32m    529\u001B[0m \u001B[38;5;28;01mdef\u001B[39;00m \u001B[38;5;21m_matvec\u001B[39m(\u001B[38;5;28mself\u001B[39m, x):\n\u001B[0;32m--> 530\u001B[0m     \u001B[38;5;28;01mreturn\u001B[39;00m \u001B[38;5;28;43mself\u001B[39;49m\u001B[38;5;241;43m.\u001B[39;49m\u001B[43m__matvec_impl\u001B[49m\u001B[43m(\u001B[49m\u001B[43mx\u001B[49m\u001B[43m)\u001B[49m\n",
      "File \u001B[0;32m~/miniforge3/envs/ExPert/lib/python3.8/site-packages/scipy/sparse/linalg/_eigen/_svds.py:293\u001B[0m, in \u001B[0;36msvds.<locals>.matvec_XH_X\u001B[0;34m(x)\u001B[0m\n\u001B[1;32m    292\u001B[0m \u001B[38;5;28;01mdef\u001B[39;00m \u001B[38;5;21mmatvec_XH_X\u001B[39m(x):\n\u001B[0;32m--> 293\u001B[0m     \u001B[38;5;28;01mreturn\u001B[39;00m \u001B[43mXH_dot\u001B[49m\u001B[43m(\u001B[49m\u001B[43mX_dot\u001B[49m\u001B[43m(\u001B[49m\u001B[43mx\u001B[49m\u001B[43m)\u001B[49m\u001B[43m)\u001B[49m\n",
      "File \u001B[0;32m~/miniforge3/envs/ExPert/lib/python3.8/site-packages/scipy/sparse/linalg/_interface.py:279\u001B[0m, in \u001B[0;36mLinearOperator.rmatvec\u001B[0;34m(self, x)\u001B[0m\n\u001B[1;32m    276\u001B[0m \u001B[38;5;28;01mif\u001B[39;00m x\u001B[38;5;241m.\u001B[39mshape \u001B[38;5;241m!=\u001B[39m (M,) \u001B[38;5;129;01mand\u001B[39;00m x\u001B[38;5;241m.\u001B[39mshape \u001B[38;5;241m!=\u001B[39m (M,\u001B[38;5;241m1\u001B[39m):\n\u001B[1;32m    277\u001B[0m     \u001B[38;5;28;01mraise\u001B[39;00m \u001B[38;5;167;01mValueError\u001B[39;00m(\u001B[38;5;124m'\u001B[39m\u001B[38;5;124mdimension mismatch\u001B[39m\u001B[38;5;124m'\u001B[39m)\n\u001B[0;32m--> 279\u001B[0m y \u001B[38;5;241m=\u001B[39m \u001B[38;5;28;43mself\u001B[39;49m\u001B[38;5;241;43m.\u001B[39;49m\u001B[43m_rmatvec\u001B[49m\u001B[43m(\u001B[49m\u001B[43mx\u001B[49m\u001B[43m)\u001B[49m\n\u001B[1;32m    281\u001B[0m \u001B[38;5;28;01mif\u001B[39;00m \u001B[38;5;28misinstance\u001B[39m(x, np\u001B[38;5;241m.\u001B[39mmatrix):\n\u001B[1;32m    282\u001B[0m     y \u001B[38;5;241m=\u001B[39m asmatrix(y)\n",
      "File \u001B[0;32m~/miniforge3/envs/ExPert/lib/python3.8/site-packages/scipy/sparse/linalg/_interface.py:536\u001B[0m, in \u001B[0;36m_CustomLinearOperator._rmatvec\u001B[0;34m(self, x)\u001B[0m\n\u001B[1;32m    534\u001B[0m \u001B[38;5;28;01mif\u001B[39;00m func \u001B[38;5;129;01mis\u001B[39;00m \u001B[38;5;28;01mNone\u001B[39;00m:\n\u001B[1;32m    535\u001B[0m     \u001B[38;5;28;01mraise\u001B[39;00m \u001B[38;5;167;01mNotImplementedError\u001B[39;00m(\u001B[38;5;124m\"\u001B[39m\u001B[38;5;124mrmatvec is not defined\u001B[39m\u001B[38;5;124m\"\u001B[39m)\n\u001B[0;32m--> 536\u001B[0m \u001B[38;5;28;01mreturn\u001B[39;00m \u001B[38;5;28;43mself\u001B[39;49m\u001B[38;5;241;43m.\u001B[39;49m\u001B[43m__rmatvec_impl\u001B[49m\u001B[43m(\u001B[49m\u001B[43mx\u001B[49m\u001B[43m)\u001B[49m\n",
      "File \u001B[0;32m~/miniforge3/envs/ExPert/lib/python3.8/site-packages/scanpy/preprocessing/_pca.py:289\u001B[0m, in \u001B[0;36m_pca_with_sparse.<locals>.rmatvec\u001B[0;34m(x)\u001B[0m\n\u001B[1;32m    288\u001B[0m \u001B[38;5;28;01mdef\u001B[39;00m \u001B[38;5;21mrmatvec\u001B[39m(x):\n\u001B[0;32m--> 289\u001B[0m     \u001B[38;5;28;01mreturn\u001B[39;00m \u001B[43mXHdot\u001B[49m\u001B[43m(\u001B[49m\u001B[43mx\u001B[49m\u001B[43m)\u001B[49m \u001B[38;5;241m-\u001B[39m mhdot(ones(x))\n",
      "File \u001B[0;32m~/miniforge3/envs/ExPert/lib/python3.8/site-packages/scipy/sparse/_base.py:416\u001B[0m, in \u001B[0;36mspmatrix.dot\u001B[0;34m(self, other)\u001B[0m\n\u001B[1;32m    414\u001B[0m     \u001B[38;5;28;01mreturn\u001B[39;00m \u001B[38;5;28mself\u001B[39m \u001B[38;5;241m*\u001B[39m other\n\u001B[1;32m    415\u001B[0m \u001B[38;5;28;01melse\u001B[39;00m:\n\u001B[0;32m--> 416\u001B[0m     \u001B[38;5;28;01mreturn\u001B[39;00m \u001B[38;5;28;43mself\u001B[39;49m\u001B[43m \u001B[49m\u001B[38;5;241;43m@\u001B[39;49m\u001B[43m \u001B[49m\u001B[43mother\u001B[49m\n",
      "File \u001B[0;32m~/miniforge3/envs/ExPert/lib/python3.8/site-packages/scipy/sparse/_base.py:623\u001B[0m, in \u001B[0;36mspmatrix.__matmul__\u001B[0;34m(self, other)\u001B[0m\n\u001B[1;32m    620\u001B[0m \u001B[38;5;28;01mif\u001B[39;00m isscalarlike(other):\n\u001B[1;32m    621\u001B[0m     \u001B[38;5;28;01mraise\u001B[39;00m \u001B[38;5;167;01mValueError\u001B[39;00m(\u001B[38;5;124m\"\u001B[39m\u001B[38;5;124mScalar operands are not allowed, \u001B[39m\u001B[38;5;124m\"\u001B[39m\n\u001B[1;32m    622\u001B[0m                      \u001B[38;5;124m\"\u001B[39m\u001B[38;5;124muse \u001B[39m\u001B[38;5;124m'\u001B[39m\u001B[38;5;124m*\u001B[39m\u001B[38;5;124m'\u001B[39m\u001B[38;5;124m instead\u001B[39m\u001B[38;5;124m\"\u001B[39m)\n\u001B[0;32m--> 623\u001B[0m \u001B[38;5;28;01mreturn\u001B[39;00m \u001B[38;5;28;43mself\u001B[39;49m\u001B[38;5;241;43m.\u001B[39;49m\u001B[43m_mul_dispatch\u001B[49m\u001B[43m(\u001B[49m\u001B[43mother\u001B[49m\u001B[43m)\u001B[49m\n",
      "File \u001B[0;32m~/miniforge3/envs/ExPert/lib/python3.8/site-packages/scipy/sparse/_base.py:524\u001B[0m, in \u001B[0;36mspmatrix._mul_dispatch\u001B[0;34m(self, other)\u001B[0m\n\u001B[1;32m    521\u001B[0m \u001B[38;5;28;01mif\u001B[39;00m other\u001B[38;5;241m.\u001B[39m\u001B[38;5;18m__class__\u001B[39m \u001B[38;5;129;01mis\u001B[39;00m np\u001B[38;5;241m.\u001B[39mndarray:\n\u001B[1;32m    522\u001B[0m     \u001B[38;5;66;03m# Fast path for the most common case\u001B[39;00m\n\u001B[1;32m    523\u001B[0m     \u001B[38;5;28;01mif\u001B[39;00m other\u001B[38;5;241m.\u001B[39mshape \u001B[38;5;241m==\u001B[39m (N,):\n\u001B[0;32m--> 524\u001B[0m         \u001B[38;5;28;01mreturn\u001B[39;00m \u001B[38;5;28;43mself\u001B[39;49m\u001B[38;5;241;43m.\u001B[39;49m\u001B[43m_mul_vector\u001B[49m\u001B[43m(\u001B[49m\u001B[43mother\u001B[49m\u001B[43m)\u001B[49m\n\u001B[1;32m    525\u001B[0m     \u001B[38;5;28;01melif\u001B[39;00m other\u001B[38;5;241m.\u001B[39mshape \u001B[38;5;241m==\u001B[39m (N, \u001B[38;5;241m1\u001B[39m):\n\u001B[1;32m    526\u001B[0m         \u001B[38;5;28;01mreturn\u001B[39;00m \u001B[38;5;28mself\u001B[39m\u001B[38;5;241m.\u001B[39m_mul_vector(other\u001B[38;5;241m.\u001B[39mravel())\u001B[38;5;241m.\u001B[39mreshape(M, \u001B[38;5;241m1\u001B[39m)\n",
      "File \u001B[0;32m~/miniforge3/envs/ExPert/lib/python3.8/site-packages/scipy/sparse/_compressed.py:489\u001B[0m, in \u001B[0;36m_cs_matrix._mul_vector\u001B[0;34m(self, other)\u001B[0m\n\u001B[1;32m    487\u001B[0m \u001B[38;5;66;03m# csr_matvec or csc_matvec\u001B[39;00m\n\u001B[1;32m    488\u001B[0m fn \u001B[38;5;241m=\u001B[39m \u001B[38;5;28mgetattr\u001B[39m(_sparsetools, \u001B[38;5;28mself\u001B[39m\u001B[38;5;241m.\u001B[39mformat \u001B[38;5;241m+\u001B[39m \u001B[38;5;124m'\u001B[39m\u001B[38;5;124m_matvec\u001B[39m\u001B[38;5;124m'\u001B[39m)\n\u001B[0;32m--> 489\u001B[0m \u001B[43mfn\u001B[49m\u001B[43m(\u001B[49m\u001B[43mM\u001B[49m\u001B[43m,\u001B[49m\u001B[43m \u001B[49m\u001B[43mN\u001B[49m\u001B[43m,\u001B[49m\u001B[43m \u001B[49m\u001B[38;5;28;43mself\u001B[39;49m\u001B[38;5;241;43m.\u001B[39;49m\u001B[43mindptr\u001B[49m\u001B[43m,\u001B[49m\u001B[43m \u001B[49m\u001B[38;5;28;43mself\u001B[39;49m\u001B[38;5;241;43m.\u001B[39;49m\u001B[43mindices\u001B[49m\u001B[43m,\u001B[49m\u001B[43m \u001B[49m\u001B[38;5;28;43mself\u001B[39;49m\u001B[38;5;241;43m.\u001B[39;49m\u001B[43mdata\u001B[49m\u001B[43m,\u001B[49m\u001B[43m \u001B[49m\u001B[43mother\u001B[49m\u001B[43m,\u001B[49m\u001B[43m \u001B[49m\u001B[43mresult\u001B[49m\u001B[43m)\u001B[49m\n\u001B[1;32m    491\u001B[0m \u001B[38;5;28;01mreturn\u001B[39;00m result\n",
      "\u001B[0;31mKeyboardInterrupt\u001B[0m: "
     ]
    }
   ],
   "execution_count": 4
  },
  {
   "metadata": {},
   "cell_type": "code",
   "outputs": [],
   "execution_count": null,
   "source": "",
   "id": "ff494e233fcc4c97"
  }
 ],
 "metadata": {
  "kernelspec": {
   "display_name": "Python 3",
   "language": "python",
   "name": "python3"
  },
  "language_info": {
   "codemirror_mode": {
    "name": "ipython",
    "version": 2
   },
   "file_extension": ".py",
   "mimetype": "text/x-python",
   "name": "python",
   "nbconvert_exporter": "python",
   "pygments_lexer": "ipython2",
   "version": "2.7.6"
  }
 },
 "nbformat": 4,
 "nbformat_minor": 5
}
